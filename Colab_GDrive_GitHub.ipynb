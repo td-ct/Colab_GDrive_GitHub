{
  "nbformat": 4,
  "nbformat_minor": 0,
  "metadata": {
    "colab": {
      "name": "Colab - GDrive - GitHub.ipynb",
      "provenance": [],
      "collapsed_sections": []
    },
    "kernelspec": {
      "name": "python3",
      "display_name": "Python 3"
    }
  },
  "cells": [
    {
      "cell_type": "code",
      "metadata": {
        "id": "kImjo5yd26Y7",
        "colab_type": "code",
        "colab": {}
      },
      "source": [
        "from google.colab import drive\n",
        "from os import makedirs\n",
        "from os import system\n",
        "from os.path import join\n",
        "from os.path import exists\n",
        "from shutil import move\n",
        "from datetime import datetime as dt\n",
        "import sys"
      ],
      "execution_count": 0,
      "outputs": []
    },
    {
      "cell_type": "markdown",
      "metadata": {
        "id": "rLvf_nJP4If5",
        "colab_type": "text"
      },
      "source": [
        "# Working with a github project on colab in google drive"
      ]
    },
    {
      "cell_type": "code",
      "metadata": {
        "id": "NTYgBFqU_ZaA",
        "colab_type": "code",
        "colab": {}
      },
      "source": [
        "GIT_REPOSITORY_OWNER = \"td-ct\"           # GITHUB PROJECT'S HOSTS username\n",
        "GIT_REPOSITORY = \"test\"          # GITHUB PROJECT'S HOSTS username\n",
        "\n",
        "GIT_TOKEN = \"\"                   # Your personal github token can be generated in your GitHub account (settings->developer settings->personal access tokens)\n",
        "\n",
        "GDRIVE_ROOT = '/content/drive'   # default for the drive\n",
        "PROJ = 'My Drive/Colab-GitHub'   # path to your project on Drive\n",
        "\n",
        "#TD Some Concatenations... Nothing to change here!\n",
        "PROJECT_PATH = join(GDRIVE_ROOT, PROJ)\n",
        "REPO_PATH = join(PROJECT_PATH,GIT_REPOSITORY)\n",
        "REPO_DOT_PATH = join(REPO_PATH,\".git/\")\n",
        "GIT_PATH = \"https://\"+GIT_TOKEN+\"@github.com/\"+GIT_REPOSITORY_OWNER+\"/\"+GIT_REPOSITORY+\".git\""
      ],
      "execution_count": 0,
      "outputs": []
    },
    {
      "cell_type": "code",
      "metadata": {
        "id": "QilQgyYmnDX1",
        "colab_type": "code",
        "colab": {}
      },
      "source": [
        "def query_yes_no(question, default=\"yes\"):\n",
        "    \"\"\"Ask a yes/no question via raw_input() and return their answer.\n",
        "\n",
        "    \"question\" is a string that is presented to the user.\n",
        "    \"default\" is the presumed answer if the user just hits <Enter>.\n",
        "        It must be \"yes\" (the default), \"no\" or None (meaning\n",
        "        an answer is required of the user).\n",
        "\n",
        "    The \"answer\" return value is True for \"yes\" or False for \"no\".\n",
        "    \"\"\"\n",
        "    valid = {\"yes\": True, \"y\": True, \"ye\": True,\n",
        "             \"no\": False, \"n\": False}\n",
        "    if default is None:\n",
        "        prompt = \" [y/n] \"\n",
        "    elif default == \"yes\":\n",
        "        prompt = \" [Y/n] \"\n",
        "    elif default == \"no\":\n",
        "        prompt = \" [y/N] \"\n",
        "    else:\n",
        "        raise ValueError(\"invalid default answer: '%s'\" % default)\n",
        "\n",
        "    while True:\n",
        "        sys.stdout.write(question + prompt)\n",
        "        choice = input().lower()\n",
        "        if default is not None and choice == '':\n",
        "            return valid[default]\n",
        "        elif choice in valid:\n",
        "            return valid[choice]\n",
        "        else:\n",
        "            sys.stdout.write(\"Please respond with 'yes' or 'no' \"\n",
        "                             \"(or 'y' or 'n').\\n\")"
      ],
      "execution_count": 0,
      "outputs": []
    },
    {
      "cell_type": "markdown",
      "metadata": {
        "id": "sMd-zJM94TqK",
        "colab_type": "text"
      },
      "source": [
        "## Google Drive - Connect to your own drive"
      ]
    },
    {
      "cell_type": "code",
      "metadata": {
        "id": "B5CKLUGm6KzL",
        "colab_type": "code",
        "outputId": "5435fd61-16d9-45ee-d896-8942d833ea1d",
        "colab": {
          "base_uri": "https://localhost:8080/",
          "height": 33
        }
      },
      "source": [
        "#drive.mount(GDRIVE_ROOT)\n",
        "drive.mount(GDRIVE_ROOT, force_remount=True)"
      ],
      "execution_count": 17,
      "outputs": [
        {
          "output_type": "stream",
          "text": [
            "Mounted at /content/drive\n"
          ],
          "name": "stdout"
        }
      ]
    },
    {
      "cell_type": "markdown",
      "metadata": {
        "id": "BZRnWLRCvuw9",
        "colab_type": "text"
      },
      "source": [
        "## GitHub Initial \"clone\" into fresh directory - Download your project and prepare everything\n",
        "You will need your private token for github, which you can generate going to github -> settings -> Developer Settings -> Personal Access Token -> Check \"repo\" -> generate it -> save it (you won't see it later again, only chance!"
      ]
    },
    {
      "cell_type": "code",
      "metadata": {
        "id": "LY3J8TnzwdNs",
        "colab_type": "code",
        "outputId": "690629bb-c109-4766-a622-14937dc71918",
        "colab": {
          "base_uri": "https://localhost:8080/",
          "height": 131
        }
      },
      "source": [
        "#!mkdir \"{PROJECT_PATH}\"     # in case we haven't created it already   \n",
        "\n",
        "try: \n",
        "  makedirs(PROJECT_PATH)\n",
        "  print(\"Colab-Github base project directory '%s' was created successfully on GDrive\" %PROJECT_PATH) \n",
        "except OSError as error: \n",
        "  #print(error)\n",
        "  try: \n",
        "    makedirs(PROJECT_PATH, exist_ok = True)\n",
        "    print(\"Colab-Github base project directory '%s' already on GDrive\" %PROJECT_PATH) \n",
        "  except OSError as error: \n",
        "    #print(error)\n",
        "    print(\"Fatal: Base Colab-GitHub directory '%s' on GDrive can not be created\" %PROJECT_PATH)\n",
        "\n",
        "gitPull = False\n",
        "\n",
        "try: \n",
        "  makedirs(REPO_PATH)\n",
        "  print(\"Directory '%s' was created successfully\" %REPO_PATH) \n",
        "except OSError as error: \n",
        "  try: \n",
        "    makedirs(REPO_PATH, exist_ok = True) \n",
        "\n",
        "\n",
        "    print(\"Checking '%s'\" % REPO_DOT_PATH)\n",
        "    if (exists(REPO_DOT_PATH)):\n",
        "      gitPull = query_yes_no(\"Update (git pull) existing Repo? Otherwise, we move your local repo to another folder and let \\\"git clone\\\" populate a new one.\",\"yes\")\n",
        "    else:\n",
        "      print(\"Directory '%s' does not appear to be a valid git repo.\" % REPO_PATH)\n",
        "    if not gitPull:\n",
        "      MOVED_REPO_PATH = REPO_PATH+\"_moved_\"+dt.now().strftime('%Y%m%d%H%M%S')\n",
        "      print(\"Directory '%s' exists. Moving to '%s' sake of safety!\" % (REPO_PATH,MOVED_REPO_PATH) )\n",
        "      move(REPO_PATH, MOVED_REPO_PATH) \n",
        "      makedirs(REPO_PATH)\n",
        "      print(\"Empty directory '%s' was created successfully\" %REPO_PATH) \n",
        "  except OSError as error:\n",
        "    print(\"Fatal: Directory '%s' can not be created\" %REPO_PATH) \n",
        "\n",
        "if gitPull:\n",
        "  !git -C \"{REPO_PATH}\" fetch --all                       # Get all remote changes\n",
        "  if (query_yes_no(\"Loose your local changes and update with remote master branch? Choosing 'n' you might want to use your own git software to manually merge...\",\"no\")):\n",
        "    print(\"Hard reset your local changes!\")\n",
        "    !git -C \"{REPO_PATH}\" reset --hard origin/master        # Replace your changes with the remote ones!!!\n",
        "else:\n",
        "  !git clone \"{GIT_PATH}\" \"{REPO_PATH}\"                   # Pupulate an empty filder with a fresh copy from the remote server"
      ],
      "execution_count": 18,
      "outputs": [
        {
          "output_type": "stream",
          "text": [
            "Colab-Github base project directory '/content/drive/My Drive/Colab-GitHub' already on GDrive\n",
            "Checking '/content/drive/My Drive/Colab-GitHub/test/.git/'\n",
            "Update (git pull) existing Repo? Otherwise, we move your local repo to another folder and let \"git clone\" populate a new one. [Y/n] y\n",
            "Fetching origin\n",
            "Loose your local changes and update with remote master branch? Choosing 'n' you might want to use your own git software to manually merge... [y/N] y\n",
            "Hard reset your local changes!\n",
            "HEAD is now at 023725a I addes a line to test.ipynb\n"
          ],
          "name": "stdout"
        }
      ]
    },
    {
      "cell_type": "markdown",
      "metadata": {
        "id": "SmpAS7Ia4lR2",
        "colab_type": "text"
      },
      "source": [
        "## Colab - Open the code in colab and work on it"
      ]
    },
    {
      "cell_type": "markdown",
      "metadata": {
        "id": "kH-3fvWvvZUv",
        "colab_type": "text"
      },
      "source": [
        "## GitHub \"push\" - Upload your changes to the reposiory and benefit from version tracking"
      ]
    },
    {
      "cell_type": "code",
      "metadata": {
        "id": "nMcFmEvAvWQF",
        "colab_type": "code",
        "outputId": "e6e992d1-3a29-4974-97aa-073d88f36852",
        "colab": {
          "base_uri": "https://localhost:8080/",
          "height": 180
        }
      },
      "source": [
        "GIT_EMAIL = \"timo.damm@rad.uni-kiel.de\"                   # replace with yours\n",
        "GIT_USERNAME = \"td-ct\"                                        # replace with yours\n",
        "GIT_BRANCH_NAME = \"master\"                                # except you want to start your own subbranch\n",
        "\n",
        "!git config --global user.email \"{GIT_EMAIL}\"             # Always reset the git config data, as we are on a could system...\n",
        "!git config --global user.name \"{GIT_USERNAME}\"               # Always reset the git config data, as we are on a could system...\n",
        "\n",
        "!git -C \"{REPO_PATH}\" add .                               # Add all new files to to repo, if they are not ignored due to .gitigonre settings!\n",
        "\n",
        "GIT_COMMIT_MESSAGE = \"Commit Message: [New Feature.../Bugfix on...???]\"\n",
        "sys.stdout.write(GIT_COMMIT_MESSAGE)\n",
        "GIT_COMMIT_MESSAGE = input()\n",
        "\n",
        "!git -C \"{REPO_PATH}\" commit -m \"{GIT_COMMIT_MESSAGE}\"    # Commit your changes with a description locally\n",
        "!git -C \"{REPO_PATH}\" push origin master                  # Push your changes to the remote GitHub repo!"
      ],
      "execution_count": 20,
      "outputs": [
        {
          "output_type": "stream",
          "text": [
            "Commit Message: [New Feature.../Bugfix on...???]Feierabend!\n",
            "[master bb8c514] Feierabend!\n",
            " 1 file changed, 2 insertions(+)\n",
            "Counting objects: 3, done.\n",
            "Delta compression using up to 2 threads.\n",
            "Compressing objects: 100% (2/2), done.\n",
            "Writing objects: 100% (3/3), 319 bytes | 29.00 KiB/s, done.\n",
            "Total 3 (delta 0), reused 0 (delta 0)\n",
            "To https://github.com/td-ct/test.git\n",
            "   023725a..bb8c514  master -> master\n"
          ],
          "name": "stdout"
        }
      ]
    },
    {
      "cell_type": "markdown",
      "metadata": {
        "id": "8ysM3QAi5WND",
        "colab_type": "text"
      },
      "source": [
        "## Finished - Your work is saved to GitHub"
      ]
    }
  ]
}